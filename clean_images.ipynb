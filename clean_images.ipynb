{
 "cells": [
  {
   "cell_type": "code",
   "execution_count": 3,
   "metadata": {},
   "outputs": [
    {
     "ename": "KeyError",
     "evalue": "'Text:kwdoc'",
     "output_type": "error",
     "traceback": [
      "\u001b[0;31m---------------------------------------------------------------------------\u001b[0m",
      "\u001b[0;31mValueError\u001b[0m                                Traceback (most recent call last)",
      "File \u001b[0;32m~/miniconda3/envs/project-4-env-01/lib/python3.10/site-packages/matplotlib/docstring.py:61\u001b[0m, in \u001b[0;36m_ArtistKwdocLoader.__missing__\u001b[0;34m(self, key)\u001b[0m\n\u001b[1;32m     60\u001b[0m \u001b[39mtry\u001b[39;00m:\n\u001b[0;32m---> 61\u001b[0m     \u001b[39mcls\u001b[39m, \u001b[39m=\u001b[39m [\u001b[39mcls\u001b[39m \u001b[39mfor\u001b[39;00m \u001b[39mcls\u001b[39m \u001b[39min\u001b[39;00m _recursive_subclasses(Artist)\n\u001b[1;32m     62\u001b[0m             \u001b[39mif\u001b[39;00m \u001b[39mcls\u001b[39m\u001b[39m.\u001b[39m\u001b[39m__name__\u001b[39m \u001b[39m==\u001b[39m name]\n\u001b[1;32m     63\u001b[0m \u001b[39mexcept\u001b[39;00m \u001b[39mValueError\u001b[39;00m \u001b[39mas\u001b[39;00m e:\n",
      "\u001b[0;31mValueError\u001b[0m: too many values to unpack (expected 1)",
      "\nThe above exception was the direct cause of the following exception:\n",
      "\u001b[0;31mKeyError\u001b[0m                                  Traceback (most recent call last)",
      "\u001b[1;32m/home/mo/Desktop/scratch/project4/clean_images.ipynb Cell 1\u001b[0m in \u001b[0;36m<cell line: 5>\u001b[0;34m()\u001b[0m\n\u001b[1;32m      <a href='vscode-notebook-cell:/home/mo/Desktop/scratch/project4/clean_images.ipynb#W0sZmlsZQ%3D%3D?line=2'>3</a>\u001b[0m \u001b[39mimport\u001b[39;00m \u001b[39msklearn\u001b[39;00m\n\u001b[1;32m      <a href='vscode-notebook-cell:/home/mo/Desktop/scratch/project4/clean_images.ipynb#W0sZmlsZQ%3D%3D?line=3'>4</a>\u001b[0m \u001b[39mimport\u001b[39;00m \u001b[39mnumpy\u001b[39;00m \u001b[39mas\u001b[39;00m \u001b[39mnp\u001b[39;00m\n\u001b[0;32m----> <a href='vscode-notebook-cell:/home/mo/Desktop/scratch/project4/clean_images.ipynb#W0sZmlsZQ%3D%3D?line=4'>5</a>\u001b[0m \u001b[39mimport\u001b[39;00m \u001b[39mmatplotlib\u001b[39;00m\u001b[39m.\u001b[39;00m\u001b[39mpyplot\u001b[39;00m \u001b[39mas\u001b[39;00m \u001b[39mplt\u001b[39;00m\n\u001b[1;32m      <a href='vscode-notebook-cell:/home/mo/Desktop/scratch/project4/clean_images.ipynb#W0sZmlsZQ%3D%3D?line=5'>6</a>\u001b[0m \u001b[39mimport\u001b[39;00m \u001b[39mmatplotlib\u001b[39;00m\u001b[39m.\u001b[39;00m\u001b[39mimage\u001b[39;00m \u001b[39mas\u001b[39;00m \u001b[39mmpimg\u001b[39;00m\n\u001b[1;32m      <a href='vscode-notebook-cell:/home/mo/Desktop/scratch/project4/clean_images.ipynb#W0sZmlsZQ%3D%3D?line=6'>7</a>\u001b[0m \u001b[39mimport\u001b[39;00m \u001b[39mcv2\u001b[39;00m\n",
      "File \u001b[0;32m~/miniconda3/envs/project-4-env-01/lib/python3.10/site-packages/matplotlib/pyplot.py:49\u001b[0m, in \u001b[0;36m<module>\u001b[0;34m\u001b[0m\n\u001b[1;32m     47\u001b[0m \u001b[39mfrom\u001b[39;00m \u001b[39mcycler\u001b[39;00m \u001b[39mimport\u001b[39;00m cycler\n\u001b[1;32m     48\u001b[0m \u001b[39mimport\u001b[39;00m \u001b[39mmatplotlib\u001b[39;00m\n\u001b[0;32m---> 49\u001b[0m \u001b[39mimport\u001b[39;00m \u001b[39mmatplotlib\u001b[39;00m\u001b[39m.\u001b[39;00m\u001b[39mcolorbar\u001b[39;00m\n\u001b[1;32m     50\u001b[0m \u001b[39mimport\u001b[39;00m \u001b[39mmatplotlib\u001b[39;00m\u001b[39m.\u001b[39;00m\u001b[39mimage\u001b[39;00m\n\u001b[1;32m     51\u001b[0m \u001b[39mfrom\u001b[39;00m \u001b[39mmatplotlib\u001b[39;00m \u001b[39mimport\u001b[39;00m _api\n",
      "File \u001b[0;32m~/miniconda3/envs/project-4-env-01/lib/python3.10/site-packages/matplotlib/colorbar.py:21\u001b[0m, in \u001b[0;36m<module>\u001b[0;34m\u001b[0m\n\u001b[1;32m     18\u001b[0m \u001b[39mimport\u001b[39;00m \u001b[39mnumpy\u001b[39;00m \u001b[39mas\u001b[39;00m \u001b[39mnp\u001b[39;00m\n\u001b[1;32m     20\u001b[0m \u001b[39mimport\u001b[39;00m \u001b[39mmatplotlib\u001b[39;00m \u001b[39mas\u001b[39;00m \u001b[39mmpl\u001b[39;00m\n\u001b[0;32m---> 21\u001b[0m \u001b[39mfrom\u001b[39;00m \u001b[39mmatplotlib\u001b[39;00m \u001b[39mimport\u001b[39;00m _api, collections, cm, colors, contour, ticker\n\u001b[1;32m     22\u001b[0m \u001b[39mimport\u001b[39;00m \u001b[39mmatplotlib\u001b[39;00m\u001b[39m.\u001b[39;00m\u001b[39martist\u001b[39;00m \u001b[39mas\u001b[39;00m \u001b[39mmartist\u001b[39;00m\n\u001b[1;32m     23\u001b[0m \u001b[39mimport\u001b[39;00m \u001b[39mmatplotlib\u001b[39;00m\u001b[39m.\u001b[39;00m\u001b[39mpatches\u001b[39;00m \u001b[39mas\u001b[39;00m \u001b[39mmpatches\u001b[39;00m\n",
      "File \u001b[0;32m~/miniconda3/envs/project-4-env-01/lib/python3.10/site-packages/matplotlib/contour.py:20\u001b[0m, in \u001b[0;36m<module>\u001b[0;34m\u001b[0m\n\u001b[1;32m     18\u001b[0m \u001b[39mimport\u001b[39;00m \u001b[39mmatplotlib\u001b[39;00m\u001b[39m.\u001b[39;00m\u001b[39mcollections\u001b[39;00m \u001b[39mas\u001b[39;00m \u001b[39mmcoll\u001b[39;00m\n\u001b[1;32m     19\u001b[0m \u001b[39mimport\u001b[39;00m \u001b[39mmatplotlib\u001b[39;00m\u001b[39m.\u001b[39;00m\u001b[39mfont_manager\u001b[39;00m \u001b[39mas\u001b[39;00m \u001b[39mfont_manager\u001b[39;00m\n\u001b[0;32m---> 20\u001b[0m \u001b[39mimport\u001b[39;00m \u001b[39mmatplotlib\u001b[39;00m\u001b[39m.\u001b[39;00m\u001b[39mtext\u001b[39;00m \u001b[39mas\u001b[39;00m \u001b[39mtext\u001b[39;00m\n\u001b[1;32m     21\u001b[0m \u001b[39mimport\u001b[39;00m \u001b[39mmatplotlib\u001b[39;00m\u001b[39m.\u001b[39;00m\u001b[39mcbook\u001b[39;00m \u001b[39mas\u001b[39;00m \u001b[39mcbook\u001b[39;00m\n\u001b[1;32m     22\u001b[0m \u001b[39mimport\u001b[39;00m \u001b[39mmatplotlib\u001b[39;00m\u001b[39m.\u001b[39;00m\u001b[39mpatches\u001b[39;00m \u001b[39mas\u001b[39;00m \u001b[39mmpatches\u001b[39;00m\n",
      "File \u001b[0;32m~/miniconda3/envs/project-4-env-01/lib/python3.10/site-packages/matplotlib/text.py:106\u001b[0m, in \u001b[0;36m<module>\u001b[0;34m\u001b[0m\n\u001b[1;32m     86\u001b[0m     x_box, y_box \u001b[39m=\u001b[39m Affine2D()\u001b[39m.\u001b[39mrotate(theta)\u001b[39m.\u001b[39mtransform((xt_box, yt_box))\n\u001b[1;32m     88\u001b[0m     \u001b[39mreturn\u001b[39;00m x_box, y_box, w_box, h_box\n\u001b[1;32m     91\u001b[0m \u001b[39m@docstring\u001b[39;49m\u001b[39m.\u001b[39;49minterpd\n\u001b[1;32m     92\u001b[0m \u001b[39m@cbook\u001b[39;49m\u001b[39m.\u001b[39;49m_define_aliases({\n\u001b[1;32m     93\u001b[0m     \u001b[39m\"\u001b[39;49m\u001b[39mcolor\u001b[39;49m\u001b[39m\"\u001b[39;49m: [\u001b[39m\"\u001b[39;49m\u001b[39mc\u001b[39;49m\u001b[39m\"\u001b[39;49m],\n\u001b[1;32m     94\u001b[0m     \u001b[39m\"\u001b[39;49m\u001b[39mfontfamily\u001b[39;49m\u001b[39m\"\u001b[39;49m: [\u001b[39m\"\u001b[39;49m\u001b[39mfamily\u001b[39;49m\u001b[39m\"\u001b[39;49m],\n\u001b[1;32m     95\u001b[0m     \u001b[39m\"\u001b[39;49m\u001b[39mfontproperties\u001b[39;49m\u001b[39m\"\u001b[39;49m: [\u001b[39m\"\u001b[39;49m\u001b[39mfont\u001b[39;49m\u001b[39m\"\u001b[39;49m, \u001b[39m\"\u001b[39;49m\u001b[39mfont_properties\u001b[39;49m\u001b[39m\"\u001b[39;49m],\n\u001b[1;32m     96\u001b[0m     \u001b[39m\"\u001b[39;49m\u001b[39mhorizontalalignment\u001b[39;49m\u001b[39m\"\u001b[39;49m: [\u001b[39m\"\u001b[39;49m\u001b[39mha\u001b[39;49m\u001b[39m\"\u001b[39;49m],\n\u001b[1;32m     97\u001b[0m     \u001b[39m\"\u001b[39;49m\u001b[39mmultialignment\u001b[39;49m\u001b[39m\"\u001b[39;49m: [\u001b[39m\"\u001b[39;49m\u001b[39mma\u001b[39;49m\u001b[39m\"\u001b[39;49m],\n\u001b[1;32m     98\u001b[0m     \u001b[39m\"\u001b[39;49m\u001b[39mfontname\u001b[39;49m\u001b[39m\"\u001b[39;49m: [\u001b[39m\"\u001b[39;49m\u001b[39mname\u001b[39;49m\u001b[39m\"\u001b[39;49m],\n\u001b[1;32m     99\u001b[0m     \u001b[39m\"\u001b[39;49m\u001b[39mfontsize\u001b[39;49m\u001b[39m\"\u001b[39;49m: [\u001b[39m\"\u001b[39;49m\u001b[39msize\u001b[39;49m\u001b[39m\"\u001b[39;49m],\n\u001b[1;32m    100\u001b[0m     \u001b[39m\"\u001b[39;49m\u001b[39mfontstretch\u001b[39;49m\u001b[39m\"\u001b[39;49m: [\u001b[39m\"\u001b[39;49m\u001b[39mstretch\u001b[39;49m\u001b[39m\"\u001b[39;49m],\n\u001b[1;32m    101\u001b[0m     \u001b[39m\"\u001b[39;49m\u001b[39mfontstyle\u001b[39;49m\u001b[39m\"\u001b[39;49m: [\u001b[39m\"\u001b[39;49m\u001b[39mstyle\u001b[39;49m\u001b[39m\"\u001b[39;49m],\n\u001b[1;32m    102\u001b[0m     \u001b[39m\"\u001b[39;49m\u001b[39mfontvariant\u001b[39;49m\u001b[39m\"\u001b[39;49m: [\u001b[39m\"\u001b[39;49m\u001b[39mvariant\u001b[39;49m\u001b[39m\"\u001b[39;49m],\n\u001b[1;32m    103\u001b[0m     \u001b[39m\"\u001b[39;49m\u001b[39mverticalalignment\u001b[39;49m\u001b[39m\"\u001b[39;49m: [\u001b[39m\"\u001b[39;49m\u001b[39mva\u001b[39;49m\u001b[39m\"\u001b[39;49m],\n\u001b[1;32m    104\u001b[0m     \u001b[39m\"\u001b[39;49m\u001b[39mfontweight\u001b[39;49m\u001b[39m\"\u001b[39;49m: [\u001b[39m\"\u001b[39;49m\u001b[39mweight\u001b[39;49m\u001b[39m\"\u001b[39;49m],\n\u001b[1;32m    105\u001b[0m })\n\u001b[0;32m--> 106\u001b[0m \u001b[39mclass\u001b[39;49;00m \u001b[39mText\u001b[39;49;00m(Artist):\n\u001b[1;32m    107\u001b[0m     \u001b[39m\"\"\"Handle storing and drawing of text in window or data coordinates.\"\"\"\u001b[39;49;00m\n\u001b[1;32m    109\u001b[0m     zorder \u001b[39m=\u001b[39;49m \u001b[39m3\u001b[39;49m\n",
      "File \u001b[0;32m~/miniconda3/envs/project-4-env-01/lib/python3.10/site-packages/matplotlib/docstring.py:86\u001b[0m, in \u001b[0;36m_ArtistPropertiesSubstitution.__call__\u001b[0;34m(self, obj)\u001b[0m\n\u001b[1;32m     84\u001b[0m \u001b[39msuper\u001b[39m()\u001b[39m.\u001b[39m\u001b[39m__call__\u001b[39m(obj)\n\u001b[1;32m     85\u001b[0m \u001b[39mif\u001b[39;00m \u001b[39misinstance\u001b[39m(obj, \u001b[39mtype\u001b[39m) \u001b[39mand\u001b[39;00m obj\u001b[39m.\u001b[39m\u001b[39m__init__\u001b[39m \u001b[39m!=\u001b[39m \u001b[39mobject\u001b[39m\u001b[39m.\u001b[39m\u001b[39m__init__\u001b[39m:\n\u001b[0;32m---> 86\u001b[0m     \u001b[39mself\u001b[39;49m(obj\u001b[39m.\u001b[39;49m\u001b[39m__init__\u001b[39;49m)\n\u001b[1;32m     87\u001b[0m \u001b[39mreturn\u001b[39;00m obj\n",
      "File \u001b[0;32m~/miniconda3/envs/project-4-env-01/lib/python3.10/site-packages/matplotlib/docstring.py:84\u001b[0m, in \u001b[0;36m_ArtistPropertiesSubstitution.__call__\u001b[0;34m(self, obj)\u001b[0m\n\u001b[1;32m     83\u001b[0m \u001b[39mdef\u001b[39;00m \u001b[39m__call__\u001b[39m(\u001b[39mself\u001b[39m, obj):\n\u001b[0;32m---> 84\u001b[0m     \u001b[39msuper\u001b[39;49m()\u001b[39m.\u001b[39;49m\u001b[39m__call__\u001b[39;49m(obj)\n\u001b[1;32m     85\u001b[0m     \u001b[39mif\u001b[39;00m \u001b[39misinstance\u001b[39m(obj, \u001b[39mtype\u001b[39m) \u001b[39mand\u001b[39;00m obj\u001b[39m.\u001b[39m\u001b[39m__init__\u001b[39m \u001b[39m!=\u001b[39m \u001b[39mobject\u001b[39m\u001b[39m.\u001b[39m\u001b[39m__init__\u001b[39m:\n\u001b[1;32m     86\u001b[0m         \u001b[39mself\u001b[39m(obj\u001b[39m.\u001b[39m\u001b[39m__init__\u001b[39m)\n",
      "File \u001b[0;32m~/miniconda3/envs/project-4-env-01/lib/python3.10/site-packages/matplotlib/docstring.py:38\u001b[0m, in \u001b[0;36mSubstitution.__call__\u001b[0;34m(self, func)\u001b[0m\n\u001b[1;32m     36\u001b[0m \u001b[39mdef\u001b[39;00m \u001b[39m__call__\u001b[39m(\u001b[39mself\u001b[39m, func):\n\u001b[1;32m     37\u001b[0m     \u001b[39mif\u001b[39;00m func\u001b[39m.\u001b[39m\u001b[39m__doc__\u001b[39m:\n\u001b[0;32m---> 38\u001b[0m         func\u001b[39m.\u001b[39m\u001b[39m__doc__\u001b[39m \u001b[39m=\u001b[39m inspect\u001b[39m.\u001b[39;49mcleandoc(func\u001b[39m.\u001b[39;49m\u001b[39m__doc__\u001b[39;49m) \u001b[39m%\u001b[39;49m \u001b[39mself\u001b[39;49m\u001b[39m.\u001b[39;49mparams\n\u001b[1;32m     39\u001b[0m     \u001b[39mreturn\u001b[39;00m func\n",
      "File \u001b[0;32m~/miniconda3/envs/project-4-env-01/lib/python3.10/site-packages/matplotlib/docstring.py:64\u001b[0m, in \u001b[0;36m_ArtistKwdocLoader.__missing__\u001b[0;34m(self, key)\u001b[0m\n\u001b[1;32m     61\u001b[0m     \u001b[39mcls\u001b[39m, \u001b[39m=\u001b[39m [\u001b[39mcls\u001b[39m \u001b[39mfor\u001b[39;00m \u001b[39mcls\u001b[39m \u001b[39min\u001b[39;00m _recursive_subclasses(Artist)\n\u001b[1;32m     62\u001b[0m             \u001b[39mif\u001b[39;00m \u001b[39mcls\u001b[39m\u001b[39m.\u001b[39m\u001b[39m__name__\u001b[39m \u001b[39m==\u001b[39m name]\n\u001b[1;32m     63\u001b[0m \u001b[39mexcept\u001b[39;00m \u001b[39mValueError\u001b[39;00m \u001b[39mas\u001b[39;00m e:\n\u001b[0;32m---> 64\u001b[0m     \u001b[39mraise\u001b[39;00m \u001b[39mKeyError\u001b[39;00m(key) \u001b[39mfrom\u001b[39;00m \u001b[39me\u001b[39;00m\n\u001b[1;32m     65\u001b[0m \u001b[39mreturn\u001b[39;00m \u001b[39mself\u001b[39m\u001b[39m.\u001b[39msetdefault(key, kwdoc(\u001b[39mcls\u001b[39m))\n",
      "\u001b[0;31mKeyError\u001b[0m: 'Text:kwdoc'"
     ]
    }
   ],
   "source": [
    "from PIL import Image\n",
    "import os\n",
    "import sklearn\n",
    "import numpy as np\n",
    "import matplotlib.pyplot as plt\n",
    "import matplotlib.image as mpimg\n",
    "import cv2\n",
    "from logging import exception\n",
    "\n",
    "def resize_image(desired_dimensions, img):\n",
    "    current_dimensions = img.size\n",
    "    ratio = float(desired_dimensions) / max(current_dimensions)\n",
    "    new_dimensions = tuple([int(x*ratio) for x in current_dimensions])\n",
    "    # img = img.resize(new_dimensions, Image.ANTIALIAS)\n",
    "    new_img = Image.new(\"RGB\", (desired_dimensions, desired_dimensions))\n",
    "    new_img.paste(img, ((desired_dimensions-new_dimensions[0])//2, (desired_dimensions-new_dimensions[1])//2))\n",
    "    return new_img\n",
    "\n",
    "if __name__ == '__main__':\n",
    "    path_to_raw_images = \"images/\"\n",
    "    path_to_cleaned_images = \"cleaned_images/\"\n",
    "    img_list = os.listdir(path_to_raw_images)\n",
    "    desired_dimensions = 512\n",
    "    for n, item in enumerate(img_list[:1], 1):\n",
    "        img = Image.open(path_to_raw_images + item)\n",
    "        new_img = resize_image(desired_dimensions, img)\n",
    "        new_img.save(f'{path_to_cleaned_images}resized_{item}')"
   ]
  },
  {
   "cell_type": "code",
   "execution_count": null,
   "metadata": {},
   "outputs": [],
   "source": [
    "img_array = mpimg.imread('/home/mo/Desktop/scratch/project4/cleaned_images/resized_2f70e0d6-23b6-46f6-ad6e-6707dc8e1af4.jpg')\n",
    "print(np.nonzero(img_array))\n",
    "imgplot = plt.imshow(img_array)"
   ]
  },
  {
   "cell_type": "code",
   "execution_count": 5,
   "metadata": {},
   "outputs": [
    {
     "ename": "KeyError",
     "evalue": "'Text:kwdoc'",
     "output_type": "error",
     "traceback": [
      "\u001b[0;31m---------------------------------------------------------------------------\u001b[0m",
      "\u001b[0;31mValueError\u001b[0m                                Traceback (most recent call last)",
      "File \u001b[0;32m~/miniconda3/envs/project-4-env-01/lib/python3.10/site-packages/matplotlib/docstring.py:61\u001b[0m, in \u001b[0;36m_ArtistKwdocLoader.__missing__\u001b[0;34m(self, key)\u001b[0m\n\u001b[1;32m     60\u001b[0m \u001b[39mtry\u001b[39;00m:\n\u001b[0;32m---> 61\u001b[0m     \u001b[39mcls\u001b[39m, \u001b[39m=\u001b[39m [\u001b[39mcls\u001b[39m \u001b[39mfor\u001b[39;00m \u001b[39mcls\u001b[39m \u001b[39min\u001b[39;00m _recursive_subclasses(Artist)\n\u001b[1;32m     62\u001b[0m             \u001b[39mif\u001b[39;00m \u001b[39mcls\u001b[39m\u001b[39m.\u001b[39m\u001b[39m__name__\u001b[39m \u001b[39m==\u001b[39m name]\n\u001b[1;32m     63\u001b[0m \u001b[39mexcept\u001b[39;00m \u001b[39mValueError\u001b[39;00m \u001b[39mas\u001b[39;00m e:\n",
      "\u001b[0;31mValueError\u001b[0m: too many values to unpack (expected 1)",
      "\nThe above exception was the direct cause of the following exception:\n",
      "\u001b[0;31mKeyError\u001b[0m                                  Traceback (most recent call last)",
      "\u001b[1;32m/home/mo/Desktop/scratch/project4/clean_images.ipynb Cell 3\u001b[0m in \u001b[0;36m<cell line: 5>\u001b[0;34m()\u001b[0m\n\u001b[1;32m      <a href='vscode-notebook-cell:/home/mo/Desktop/scratch/project4/clean_images.ipynb#W2sZmlsZQ%3D%3D?line=2'>3</a>\u001b[0m \u001b[39mimport\u001b[39;00m \u001b[39msklearn\u001b[39;00m\n\u001b[1;32m      <a href='vscode-notebook-cell:/home/mo/Desktop/scratch/project4/clean_images.ipynb#W2sZmlsZQ%3D%3D?line=3'>4</a>\u001b[0m \u001b[39mimport\u001b[39;00m \u001b[39mnumpy\u001b[39;00m \u001b[39mas\u001b[39;00m \u001b[39mnp\u001b[39;00m\n\u001b[0;32m----> <a href='vscode-notebook-cell:/home/mo/Desktop/scratch/project4/clean_images.ipynb#W2sZmlsZQ%3D%3D?line=4'>5</a>\u001b[0m \u001b[39mimport\u001b[39;00m \u001b[39mmatplotlib\u001b[39;00m\u001b[39m.\u001b[39;00m\u001b[39mpyplot\u001b[39;00m \u001b[39mas\u001b[39;00m \u001b[39mplt\u001b[39;00m\n\u001b[1;32m      <a href='vscode-notebook-cell:/home/mo/Desktop/scratch/project4/clean_images.ipynb#W2sZmlsZQ%3D%3D?line=5'>6</a>\u001b[0m \u001b[39mimport\u001b[39;00m \u001b[39mmatplotlib\u001b[39;00m\u001b[39m.\u001b[39;00m\u001b[39mimage\u001b[39;00m \u001b[39mas\u001b[39;00m \u001b[39mmpimg\u001b[39;00m\n\u001b[1;32m      <a href='vscode-notebook-cell:/home/mo/Desktop/scratch/project4/clean_images.ipynb#W2sZmlsZQ%3D%3D?line=6'>7</a>\u001b[0m \u001b[39mimport\u001b[39;00m \u001b[39mcv2\u001b[39;00m\n",
      "File \u001b[0;32m~/miniconda3/envs/project-4-env-01/lib/python3.10/site-packages/matplotlib/pyplot.py:49\u001b[0m, in \u001b[0;36m<module>\u001b[0;34m\u001b[0m\n\u001b[1;32m     47\u001b[0m \u001b[39mfrom\u001b[39;00m \u001b[39mcycler\u001b[39;00m \u001b[39mimport\u001b[39;00m cycler\n\u001b[1;32m     48\u001b[0m \u001b[39mimport\u001b[39;00m \u001b[39mmatplotlib\u001b[39;00m\n\u001b[0;32m---> 49\u001b[0m \u001b[39mimport\u001b[39;00m \u001b[39mmatplotlib\u001b[39;00m\u001b[39m.\u001b[39;00m\u001b[39mcolorbar\u001b[39;00m\n\u001b[1;32m     50\u001b[0m \u001b[39mimport\u001b[39;00m \u001b[39mmatplotlib\u001b[39;00m\u001b[39m.\u001b[39;00m\u001b[39mimage\u001b[39;00m\n\u001b[1;32m     51\u001b[0m \u001b[39mfrom\u001b[39;00m \u001b[39mmatplotlib\u001b[39;00m \u001b[39mimport\u001b[39;00m _api\n",
      "File \u001b[0;32m~/miniconda3/envs/project-4-env-01/lib/python3.10/site-packages/matplotlib/colorbar.py:21\u001b[0m, in \u001b[0;36m<module>\u001b[0;34m\u001b[0m\n\u001b[1;32m     18\u001b[0m \u001b[39mimport\u001b[39;00m \u001b[39mnumpy\u001b[39;00m \u001b[39mas\u001b[39;00m \u001b[39mnp\u001b[39;00m\n\u001b[1;32m     20\u001b[0m \u001b[39mimport\u001b[39;00m \u001b[39mmatplotlib\u001b[39;00m \u001b[39mas\u001b[39;00m \u001b[39mmpl\u001b[39;00m\n\u001b[0;32m---> 21\u001b[0m \u001b[39mfrom\u001b[39;00m \u001b[39mmatplotlib\u001b[39;00m \u001b[39mimport\u001b[39;00m _api, collections, cm, colors, contour, ticker\n\u001b[1;32m     22\u001b[0m \u001b[39mimport\u001b[39;00m \u001b[39mmatplotlib\u001b[39;00m\u001b[39m.\u001b[39;00m\u001b[39martist\u001b[39;00m \u001b[39mas\u001b[39;00m \u001b[39mmartist\u001b[39;00m\n\u001b[1;32m     23\u001b[0m \u001b[39mimport\u001b[39;00m \u001b[39mmatplotlib\u001b[39;00m\u001b[39m.\u001b[39;00m\u001b[39mpatches\u001b[39;00m \u001b[39mas\u001b[39;00m \u001b[39mmpatches\u001b[39;00m\n",
      "File \u001b[0;32m~/miniconda3/envs/project-4-env-01/lib/python3.10/site-packages/matplotlib/contour.py:20\u001b[0m, in \u001b[0;36m<module>\u001b[0;34m\u001b[0m\n\u001b[1;32m     18\u001b[0m \u001b[39mimport\u001b[39;00m \u001b[39mmatplotlib\u001b[39;00m\u001b[39m.\u001b[39;00m\u001b[39mcollections\u001b[39;00m \u001b[39mas\u001b[39;00m \u001b[39mmcoll\u001b[39;00m\n\u001b[1;32m     19\u001b[0m \u001b[39mimport\u001b[39;00m \u001b[39mmatplotlib\u001b[39;00m\u001b[39m.\u001b[39;00m\u001b[39mfont_manager\u001b[39;00m \u001b[39mas\u001b[39;00m \u001b[39mfont_manager\u001b[39;00m\n\u001b[0;32m---> 20\u001b[0m \u001b[39mimport\u001b[39;00m \u001b[39mmatplotlib\u001b[39;00m\u001b[39m.\u001b[39;00m\u001b[39mtext\u001b[39;00m \u001b[39mas\u001b[39;00m \u001b[39mtext\u001b[39;00m\n\u001b[1;32m     21\u001b[0m \u001b[39mimport\u001b[39;00m \u001b[39mmatplotlib\u001b[39;00m\u001b[39m.\u001b[39;00m\u001b[39mcbook\u001b[39;00m \u001b[39mas\u001b[39;00m \u001b[39mcbook\u001b[39;00m\n\u001b[1;32m     22\u001b[0m \u001b[39mimport\u001b[39;00m \u001b[39mmatplotlib\u001b[39;00m\u001b[39m.\u001b[39;00m\u001b[39mpatches\u001b[39;00m \u001b[39mas\u001b[39;00m \u001b[39mmpatches\u001b[39;00m\n",
      "File \u001b[0;32m~/miniconda3/envs/project-4-env-01/lib/python3.10/site-packages/matplotlib/text.py:106\u001b[0m, in \u001b[0;36m<module>\u001b[0;34m\u001b[0m\n\u001b[1;32m     86\u001b[0m     x_box, y_box \u001b[39m=\u001b[39m Affine2D()\u001b[39m.\u001b[39mrotate(theta)\u001b[39m.\u001b[39mtransform((xt_box, yt_box))\n\u001b[1;32m     88\u001b[0m     \u001b[39mreturn\u001b[39;00m x_box, y_box, w_box, h_box\n\u001b[1;32m     91\u001b[0m \u001b[39m@docstring\u001b[39;49m\u001b[39m.\u001b[39;49minterpd\n\u001b[1;32m     92\u001b[0m \u001b[39m@cbook\u001b[39;49m\u001b[39m.\u001b[39;49m_define_aliases({\n\u001b[1;32m     93\u001b[0m     \u001b[39m\"\u001b[39;49m\u001b[39mcolor\u001b[39;49m\u001b[39m\"\u001b[39;49m: [\u001b[39m\"\u001b[39;49m\u001b[39mc\u001b[39;49m\u001b[39m\"\u001b[39;49m],\n\u001b[1;32m     94\u001b[0m     \u001b[39m\"\u001b[39;49m\u001b[39mfontfamily\u001b[39;49m\u001b[39m\"\u001b[39;49m: [\u001b[39m\"\u001b[39;49m\u001b[39mfamily\u001b[39;49m\u001b[39m\"\u001b[39;49m],\n\u001b[1;32m     95\u001b[0m     \u001b[39m\"\u001b[39;49m\u001b[39mfontproperties\u001b[39;49m\u001b[39m\"\u001b[39;49m: [\u001b[39m\"\u001b[39;49m\u001b[39mfont\u001b[39;49m\u001b[39m\"\u001b[39;49m, \u001b[39m\"\u001b[39;49m\u001b[39mfont_properties\u001b[39;49m\u001b[39m\"\u001b[39;49m],\n\u001b[1;32m     96\u001b[0m     \u001b[39m\"\u001b[39;49m\u001b[39mhorizontalalignment\u001b[39;49m\u001b[39m\"\u001b[39;49m: [\u001b[39m\"\u001b[39;49m\u001b[39mha\u001b[39;49m\u001b[39m\"\u001b[39;49m],\n\u001b[1;32m     97\u001b[0m     \u001b[39m\"\u001b[39;49m\u001b[39mmultialignment\u001b[39;49m\u001b[39m\"\u001b[39;49m: [\u001b[39m\"\u001b[39;49m\u001b[39mma\u001b[39;49m\u001b[39m\"\u001b[39;49m],\n\u001b[1;32m     98\u001b[0m     \u001b[39m\"\u001b[39;49m\u001b[39mfontname\u001b[39;49m\u001b[39m\"\u001b[39;49m: [\u001b[39m\"\u001b[39;49m\u001b[39mname\u001b[39;49m\u001b[39m\"\u001b[39;49m],\n\u001b[1;32m     99\u001b[0m     \u001b[39m\"\u001b[39;49m\u001b[39mfontsize\u001b[39;49m\u001b[39m\"\u001b[39;49m: [\u001b[39m\"\u001b[39;49m\u001b[39msize\u001b[39;49m\u001b[39m\"\u001b[39;49m],\n\u001b[1;32m    100\u001b[0m     \u001b[39m\"\u001b[39;49m\u001b[39mfontstretch\u001b[39;49m\u001b[39m\"\u001b[39;49m: [\u001b[39m\"\u001b[39;49m\u001b[39mstretch\u001b[39;49m\u001b[39m\"\u001b[39;49m],\n\u001b[1;32m    101\u001b[0m     \u001b[39m\"\u001b[39;49m\u001b[39mfontstyle\u001b[39;49m\u001b[39m\"\u001b[39;49m: [\u001b[39m\"\u001b[39;49m\u001b[39mstyle\u001b[39;49m\u001b[39m\"\u001b[39;49m],\n\u001b[1;32m    102\u001b[0m     \u001b[39m\"\u001b[39;49m\u001b[39mfontvariant\u001b[39;49m\u001b[39m\"\u001b[39;49m: [\u001b[39m\"\u001b[39;49m\u001b[39mvariant\u001b[39;49m\u001b[39m\"\u001b[39;49m],\n\u001b[1;32m    103\u001b[0m     \u001b[39m\"\u001b[39;49m\u001b[39mverticalalignment\u001b[39;49m\u001b[39m\"\u001b[39;49m: [\u001b[39m\"\u001b[39;49m\u001b[39mva\u001b[39;49m\u001b[39m\"\u001b[39;49m],\n\u001b[1;32m    104\u001b[0m     \u001b[39m\"\u001b[39;49m\u001b[39mfontweight\u001b[39;49m\u001b[39m\"\u001b[39;49m: [\u001b[39m\"\u001b[39;49m\u001b[39mweight\u001b[39;49m\u001b[39m\"\u001b[39;49m],\n\u001b[1;32m    105\u001b[0m })\n\u001b[0;32m--> 106\u001b[0m \u001b[39mclass\u001b[39;49;00m \u001b[39mText\u001b[39;49;00m(Artist):\n\u001b[1;32m    107\u001b[0m     \u001b[39m\"\"\"Handle storing and drawing of text in window or data coordinates.\"\"\"\u001b[39;49;00m\n\u001b[1;32m    109\u001b[0m     zorder \u001b[39m=\u001b[39;49m \u001b[39m3\u001b[39;49m\n",
      "File \u001b[0;32m~/miniconda3/envs/project-4-env-01/lib/python3.10/site-packages/matplotlib/docstring.py:86\u001b[0m, in \u001b[0;36m_ArtistPropertiesSubstitution.__call__\u001b[0;34m(self, obj)\u001b[0m\n\u001b[1;32m     84\u001b[0m \u001b[39msuper\u001b[39m()\u001b[39m.\u001b[39m\u001b[39m__call__\u001b[39m(obj)\n\u001b[1;32m     85\u001b[0m \u001b[39mif\u001b[39;00m \u001b[39misinstance\u001b[39m(obj, \u001b[39mtype\u001b[39m) \u001b[39mand\u001b[39;00m obj\u001b[39m.\u001b[39m\u001b[39m__init__\u001b[39m \u001b[39m!=\u001b[39m \u001b[39mobject\u001b[39m\u001b[39m.\u001b[39m\u001b[39m__init__\u001b[39m:\n\u001b[0;32m---> 86\u001b[0m     \u001b[39mself\u001b[39;49m(obj\u001b[39m.\u001b[39;49m\u001b[39m__init__\u001b[39;49m)\n\u001b[1;32m     87\u001b[0m \u001b[39mreturn\u001b[39;00m obj\n",
      "File \u001b[0;32m~/miniconda3/envs/project-4-env-01/lib/python3.10/site-packages/matplotlib/docstring.py:84\u001b[0m, in \u001b[0;36m_ArtistPropertiesSubstitution.__call__\u001b[0;34m(self, obj)\u001b[0m\n\u001b[1;32m     83\u001b[0m \u001b[39mdef\u001b[39;00m \u001b[39m__call__\u001b[39m(\u001b[39mself\u001b[39m, obj):\n\u001b[0;32m---> 84\u001b[0m     \u001b[39msuper\u001b[39;49m()\u001b[39m.\u001b[39;49m\u001b[39m__call__\u001b[39;49m(obj)\n\u001b[1;32m     85\u001b[0m     \u001b[39mif\u001b[39;00m \u001b[39misinstance\u001b[39m(obj, \u001b[39mtype\u001b[39m) \u001b[39mand\u001b[39;00m obj\u001b[39m.\u001b[39m\u001b[39m__init__\u001b[39m \u001b[39m!=\u001b[39m \u001b[39mobject\u001b[39m\u001b[39m.\u001b[39m\u001b[39m__init__\u001b[39m:\n\u001b[1;32m     86\u001b[0m         \u001b[39mself\u001b[39m(obj\u001b[39m.\u001b[39m\u001b[39m__init__\u001b[39m)\n",
      "File \u001b[0;32m~/miniconda3/envs/project-4-env-01/lib/python3.10/site-packages/matplotlib/docstring.py:38\u001b[0m, in \u001b[0;36mSubstitution.__call__\u001b[0;34m(self, func)\u001b[0m\n\u001b[1;32m     36\u001b[0m \u001b[39mdef\u001b[39;00m \u001b[39m__call__\u001b[39m(\u001b[39mself\u001b[39m, func):\n\u001b[1;32m     37\u001b[0m     \u001b[39mif\u001b[39;00m func\u001b[39m.\u001b[39m\u001b[39m__doc__\u001b[39m:\n\u001b[0;32m---> 38\u001b[0m         func\u001b[39m.\u001b[39m\u001b[39m__doc__\u001b[39m \u001b[39m=\u001b[39m inspect\u001b[39m.\u001b[39;49mcleandoc(func\u001b[39m.\u001b[39;49m\u001b[39m__doc__\u001b[39;49m) \u001b[39m%\u001b[39;49m \u001b[39mself\u001b[39;49m\u001b[39m.\u001b[39;49mparams\n\u001b[1;32m     39\u001b[0m     \u001b[39mreturn\u001b[39;00m func\n",
      "File \u001b[0;32m~/miniconda3/envs/project-4-env-01/lib/python3.10/site-packages/matplotlib/docstring.py:64\u001b[0m, in \u001b[0;36m_ArtistKwdocLoader.__missing__\u001b[0;34m(self, key)\u001b[0m\n\u001b[1;32m     61\u001b[0m     \u001b[39mcls\u001b[39m, \u001b[39m=\u001b[39m [\u001b[39mcls\u001b[39m \u001b[39mfor\u001b[39;00m \u001b[39mcls\u001b[39m \u001b[39min\u001b[39;00m _recursive_subclasses(Artist)\n\u001b[1;32m     62\u001b[0m             \u001b[39mif\u001b[39;00m \u001b[39mcls\u001b[39m\u001b[39m.\u001b[39m\u001b[39m__name__\u001b[39m \u001b[39m==\u001b[39m name]\n\u001b[1;32m     63\u001b[0m \u001b[39mexcept\u001b[39;00m \u001b[39mValueError\u001b[39;00m \u001b[39mas\u001b[39;00m e:\n\u001b[0;32m---> 64\u001b[0m     \u001b[39mraise\u001b[39;00m \u001b[39mKeyError\u001b[39;00m(key) \u001b[39mfrom\u001b[39;00m \u001b[39me\u001b[39;00m\n\u001b[1;32m     65\u001b[0m \u001b[39mreturn\u001b[39;00m \u001b[39mself\u001b[39m\u001b[39m.\u001b[39msetdefault(key, kwdoc(\u001b[39mcls\u001b[39m))\n",
      "\u001b[0;31mKeyError\u001b[0m: 'Text:kwdoc'"
     ]
    }
   ],
   "source": [
    "from PIL import Image\n",
    "import os\n",
    "import sklearn\n",
    "import numpy as np\n",
    "import matplotlib.pyplot as plt\n",
    "import matplotlib.image as mpimg\n",
    "import cv2\n",
    "from logging import exception\n",
    "path_to_cleaned_images = \"cleaned_images/\"\n",
    "clean_img_list = os.listdir(path_to_cleaned_images)\n",
    "for n, item in enumerate(clean_img_list[:], 1):\n",
    "    img_array = mpimg.imread('cleaned_images/'+ item)    \n",
    "    print(np.nonzero(img_array))\n",
    "    imgplot = plt.imshow(img_array)"
   ]
  }
 ],
 "metadata": {
  "kernelspec": {
   "display_name": "Python 3.10.4 ('project-4-env-01')",
   "language": "python",
   "name": "python3"
  },
  "language_info": {
   "codemirror_mode": {
    "name": "ipython",
    "version": 3
   },
   "file_extension": ".py",
   "mimetype": "text/x-python",
   "name": "python",
   "nbconvert_exporter": "python",
   "pygments_lexer": "ipython3",
   "version": "3.10.4"
  },
  "orig_nbformat": 4,
  "vscode": {
   "interpreter": {
    "hash": "6ebcb23f1552931405171040cfcf3de3ef453a44889daa34a074ec066aa3cb0e"
   }
  }
 },
 "nbformat": 4,
 "nbformat_minor": 2
}
