{
 "cells": [
  {
   "cell_type": "code",
   "execution_count": 3,
   "metadata": {},
   "outputs": [
    {
     "name": "stderr",
     "output_type": "stream",
     "text": [
      "/tmp/ipykernel_20552/1190480611.py:8: DeprecationWarning: ANTIALIAS is deprecated and will be removed in Pillow 10 (2023-07-01). Use Resampling.LANCZOS instead.\n",
      "  img = img.resize(new_dimensions, Image.ANTIALIAS)\n"
     ]
    }
   ],
   "source": [
    "from PIL import Image\n",
    "import os\n",
    "import sklearn\n",
    "import numpy as np\n",
    "import matplotlib.pyplot as plt\n",
    "import matplotlib.image as mpimg\n",
    "import cv2\n",
    "\n",
    "def resize_image(desired_dimensions, img):\n",
    "    current_dimensions = img.size\n",
    "    ratio = float(desired_dimensions) / max(current_dimensions)\n",
    "    new_dimensions = tuple([int(x*ratio) for x in current_dimensions])\n",
    "    img = img.resize(new_dimensions, Image.ANTIALIAS)\n",
    "    new_img = Image.new(\"RGB\", (desired_dimensions, desired_dimensions))\n",
    "    new_img.paste(img, ((desired_dimensions-new_dimensions[0])//2, (desired_dimensions-new_dimensions[1])//2))\n",
    "    return new_img\n",
    "\n",
    "if __name__ == '__main__':\n",
    "    path_to_raw_images = \"images/\"\n",
    "    path_to_cleaned_images = \"cleaned_images/\"\n",
    "    img_list = os.listdir(path_to_raw_images)\n",
    "    desired_dimensions = 512\n",
    "    for n, item in enumerate(img_list[:5], 1):\n",
    "        img = Image.open(path_to_raw_images + item)\n",
    "        new_img = resize_image(desired_dimensions, img)\n",
    "        new_img.save(f'{path_to_cleaned_images}resized_{item}')"
   ]
  },
  {
   "cell_type": "code",
   "execution_count": null,
   "metadata": {},
   "outputs": [],
   "source": [
    "img_array = mpimg.imread('/home/mo/Desktop/scratch/project4/cleaned_images/resized_2f70e0d6-23b6-46f6-ad6e-6707dc8e1af4.jpg')\n",
    "print(np.nonzero(img_array))\n",
    "imgplot = plt.imshow(img_array)"
   ]
  },
  {
   "cell_type": "code",
   "execution_count": null,
   "metadata": {},
   "outputs": [],
   "source": [
    "path_to_cleaned_images = \"cleaned_images/\"\n",
    "clean_img_list = os.listdir(path_to_cleaned_images)\n",
    "for n, item in enumerate(clean_img_list[2:3], 1):\n",
    "    img_array = mpimg.imread('cleaned_images/'+ item)    \n",
    "    print(np.nonzero(img_array))\n",
    "    imgplot = plt.imshow(img_array)"
   ]
  }
 ],
 "metadata": {
  "kernelspec": {
   "display_name": "Python 3.10.4 ('project-4-env-01')",
   "language": "python",
   "name": "python3"
  },
  "language_info": {
   "codemirror_mode": {
    "name": "ipython",
    "version": 3
   },
   "file_extension": ".py",
   "mimetype": "text/x-python",
   "name": "python",
   "nbconvert_exporter": "python",
   "pygments_lexer": "ipython3",
   "version": "3.10.4"
  },
  "orig_nbformat": 4,
  "vscode": {
   "interpreter": {
    "hash": "6ebcb23f1552931405171040cfcf3de3ef453a44889daa34a074ec066aa3cb0e"
   }
  }
 },
 "nbformat": 4,
 "nbformat_minor": 2
}
