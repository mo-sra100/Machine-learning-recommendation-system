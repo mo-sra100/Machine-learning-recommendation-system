{
 "cells": [
  {
   "cell_type": "code",
   "execution_count": 2,
   "metadata": {},
   "outputs": [
    {
     "data": {
      "text/html": [
       "<div>\n",
       "<style scoped>\n",
       "    .dataframe tbody tr th:only-of-type {\n",
       "        vertical-align: middle;\n",
       "    }\n",
       "\n",
       "    .dataframe tbody tr th {\n",
       "        vertical-align: top;\n",
       "    }\n",
       "\n",
       "    .dataframe thead th {\n",
       "        text-align: right;\n",
       "    }\n",
       "</style>\n",
       "<table border=\"1\" class=\"dataframe\">\n",
       "  <thead>\n",
       "    <tr style=\"text-align: right;\">\n",
       "      <th></th>\n",
       "      <th>id</th>\n",
       "      <th>product_name</th>\n",
       "      <th>category1</th>\n",
       "      <th>description</th>\n",
       "      <th>price</th>\n",
       "      <th>location</th>\n",
       "      <th>url</th>\n",
       "      <th>page_id</th>\n",
       "      <th>date_posted</th>\n",
       "    </tr>\n",
       "  </thead>\n",
       "  <tbody>\n",
       "    <tr>\n",
       "      <th>0</th>\n",
       "      <td>243809c0-9cfc-4486-ad12-3b7a16605ba9</td>\n",
       "      <td>Mirror wall art | in Wokingham, Berkshire | Gu...</td>\n",
       "      <td>Home &amp; Garden / Dining, Living Room Furniture ...</td>\n",
       "      <td>Mirror wall art. Posted by Nisha in Dining, Li...</td>\n",
       "      <td>5.0</td>\n",
       "      <td>Wokingham, Berkshire</td>\n",
       "      <td>https://www.gumtree.com/p/mirrors-clocks-ornam...</td>\n",
       "      <td>1.426705e+09</td>\n",
       "      <td>2022-02-26</td>\n",
       "    </tr>\n",
       "    <tr>\n",
       "      <th>1</th>\n",
       "      <td>1c58d3f9-8b93-47ea-9415-204fcc2a22e6</td>\n",
       "      <td>Stainless Steel Food Steamer | in Inverness, H...</td>\n",
       "      <td>Home &amp; Garden / Other Household Goods</td>\n",
       "      <td>Morphy Richard’s (model no 48755)Stainless ste...</td>\n",
       "      <td>20.0</td>\n",
       "      <td>Inverness, Highland</td>\n",
       "      <td>https://www.gumtree.com/p/other-household-good...</td>\n",
       "      <td>1.426705e+09</td>\n",
       "      <td>2022-02-26</td>\n",
       "    </tr>\n",
       "    <tr>\n",
       "      <th>2</th>\n",
       "      <td>860673f1-57f6-47ba-8d2f-13f9e05b8f9a</td>\n",
       "      <td>Sun loungers | in Skegness, Lincolnshire | Gum...</td>\n",
       "      <td>Home &amp; Garden / Garden &amp; Patio / Outdoor Setti...</td>\n",
       "      <td>I have 2 of these - collection only as I don’t...</td>\n",
       "      <td>20.0</td>\n",
       "      <td>Skegness, Lincolnshire</td>\n",
       "      <td>https://www.gumtree.com/p/outdoor-settings-fur...</td>\n",
       "      <td>1.426705e+09</td>\n",
       "      <td>2022-02-26</td>\n",
       "    </tr>\n",
       "  </tbody>\n",
       "</table>\n",
       "</div>"
      ],
      "text/plain": [
       "                                     id  \\\n",
       "0  243809c0-9cfc-4486-ad12-3b7a16605ba9   \n",
       "1  1c58d3f9-8b93-47ea-9415-204fcc2a22e6   \n",
       "2  860673f1-57f6-47ba-8d2f-13f9e05b8f9a   \n",
       "\n",
       "                                        product_name  \\\n",
       "0  Mirror wall art | in Wokingham, Berkshire | Gu...   \n",
       "1  Stainless Steel Food Steamer | in Inverness, H...   \n",
       "2  Sun loungers | in Skegness, Lincolnshire | Gum...   \n",
       "\n",
       "                                           category1  \\\n",
       "0  Home & Garden / Dining, Living Room Furniture ...   \n",
       "1              Home & Garden / Other Household Goods   \n",
       "2  Home & Garden / Garden & Patio / Outdoor Setti...   \n",
       "\n",
       "                                         description  price  \\\n",
       "0  Mirror wall art. Posted by Nisha in Dining, Li...    5.0   \n",
       "1  Morphy Richard’s (model no 48755)Stainless ste...   20.0   \n",
       "2  I have 2 of these - collection only as I don’t...   20.0   \n",
       "\n",
       "                 location                                                url  \\\n",
       "0    Wokingham, Berkshire  https://www.gumtree.com/p/mirrors-clocks-ornam...   \n",
       "1     Inverness, Highland  https://www.gumtree.com/p/other-household-good...   \n",
       "2  Skegness, Lincolnshire  https://www.gumtree.com/p/outdoor-settings-fur...   \n",
       "\n",
       "        page_id date_posted  \n",
       "0  1.426705e+09  2022-02-26  \n",
       "1  1.426705e+09  2022-02-26  \n",
       "2  1.426705e+09  2022-02-26  "
      ]
     },
     "execution_count": 2,
     "metadata": {},
     "output_type": "execute_result"
    }
   ],
   "source": [
    "import numpy as np\n",
    "import pandas as pd\n",
    "from sklearn.model_selection import GridSearchCV\n",
    "from sklearn.pipeline import Pipeline\n",
    "from sklearn.feature_extraction.text import TfidfVectorizer\n",
    "from sklearn.linear_model import LinearRegression\n",
    "from sklearn.model_selection import train_test_split\n",
    "from sklearn.compose import ColumnTransformer\n",
    "from sklearn.metrics import mean_squared_error\n",
    "from sklearn.feature_extraction.text import TfidfVectorizer\n",
    "\n",
    "df = pd.read_csv('cleaned_tabular_data.csv', index_col=0)\n",
    "df.head(3)"
   ]
  },
  {
   "cell_type": "code",
   "execution_count": 7,
   "metadata": {},
   "outputs": [
    {
     "ename": "ValueError",
     "evalue": "could not convert string to float: 'Home & Garden / Dining, Living Room Furniture / Mirrors, Clocks & Ornaments'",
     "output_type": "error",
     "traceback": [
      "\u001b[0;31m---------------------------------------------------------------------------\u001b[0m",
      "\u001b[0;31mValueError\u001b[0m                                Traceback (most recent call last)",
      "\u001b[1;32m/home/mo/Desktop/scratch/project4/split_category.ipynb Cell 2\u001b[0m in \u001b[0;36m<cell line: 4>\u001b[0;34m()\u001b[0m\n\u001b[1;32m      <a href='vscode-notebook-cell:/home/mo/Desktop/scratch/project4/split_category.ipynb#ch0000001?line=1'>2</a>\u001b[0m bins \u001b[39m=\u001b[39m df[\u001b[39m\"\u001b[39m\u001b[39mcategory1\u001b[39m\u001b[39m\"\u001b[39m]\u001b[39m.\u001b[39munique()\n\u001b[1;32m      <a href='vscode-notebook-cell:/home/mo/Desktop/scratch/project4/split_category.ipynb#ch0000001?line=2'>3</a>\u001b[0m labels \u001b[39m=\u001b[39m df[\u001b[39m\"\u001b[39m\u001b[39mcategory1\u001b[39m\u001b[39m\"\u001b[39m]\u001b[39m.\u001b[39munique()\n\u001b[0;32m----> <a href='vscode-notebook-cell:/home/mo/Desktop/scratch/project4/split_category.ipynb#ch0000001?line=3'>4</a>\u001b[0m df[\u001b[39m\"\u001b[39m\u001b[39mcategory_new\u001b[39m\u001b[39m\"\u001b[39m] \u001b[39m=\u001b[39m pd\u001b[39m.\u001b[39;49mcut(df[\u001b[39m\"\u001b[39;49m\u001b[39mcategory1\u001b[39;49m\u001b[39m\"\u001b[39;49m], bins\u001b[39m=\u001b[39;49mbins, labels\u001b[39m=\u001b[39;49mlabels)\n\u001b[1;32m      <a href='vscode-notebook-cell:/home/mo/Desktop/scratch/project4/split_category.ipynb#ch0000001?line=4'>5</a>\u001b[0m df\u001b[39m.\u001b[39mhead(\u001b[39m3\u001b[39m)\n",
      "File \u001b[0;32m~/miniconda3/envs/project-4-env-01/lib/python3.10/site-packages/pandas/core/reshape/tile.py:289\u001b[0m, in \u001b[0;36mcut\u001b[0;34m(x, bins, right, labels, retbins, precision, include_lowest, duplicates, ordered)\u001b[0m\n\u001b[1;32m    286\u001b[0m     bins \u001b[39m=\u001b[39m _convert_bin_to_numeric_type(bins, dtype)\n\u001b[1;32m    288\u001b[0m     \u001b[39m# GH 26045: cast to float64 to avoid an overflow\u001b[39;00m\n\u001b[0;32m--> 289\u001b[0m     \u001b[39mif\u001b[39;00m (np\u001b[39m.\u001b[39mdiff(bins\u001b[39m.\u001b[39;49mastype(\u001b[39m\"\u001b[39;49m\u001b[39mfloat64\u001b[39;49m\u001b[39m\"\u001b[39;49m)) \u001b[39m<\u001b[39m \u001b[39m0\u001b[39m)\u001b[39m.\u001b[39many():\n\u001b[1;32m    290\u001b[0m         \u001b[39mraise\u001b[39;00m \u001b[39mValueError\u001b[39;00m(\u001b[39m\"\u001b[39m\u001b[39mbins must increase monotonically.\u001b[39m\u001b[39m\"\u001b[39m)\n\u001b[1;32m    292\u001b[0m fac, bins \u001b[39m=\u001b[39m _bins_to_cuts(\n\u001b[1;32m    293\u001b[0m     x,\n\u001b[1;32m    294\u001b[0m     bins,\n\u001b[0;32m   (...)\u001b[0m\n\u001b[1;32m    301\u001b[0m     ordered\u001b[39m=\u001b[39mordered,\n\u001b[1;32m    302\u001b[0m )\n",
      "\u001b[0;31mValueError\u001b[0m: could not convert string to float: 'Home & Garden / Dining, Living Room Furniture / Mirrors, Clocks & Ornaments'"
     ]
    }
   ],
   "source": [
    "df[\"category1\"].unique()\n",
    "bins = df[\"category1\"].unique()\n",
    "labels = df[\"category1\"].unique()\n",
    "df[\"category_new\"] = pd.cut(df[\"category1\"], bins=bins, labels=labels)\n",
    "df.head(3)"
   ]
  },
  {
   "cell_type": "code",
   "execution_count": null,
   "metadata": {},
   "outputs": [],
   "source": []
  }
 ],
 "metadata": {
  "kernelspec": {
   "display_name": "Python 3.10.4 ('project-4-env-01')",
   "language": "python",
   "name": "python3"
  },
  "language_info": {
   "codemirror_mode": {
    "name": "ipython",
    "version": 3
   },
   "file_extension": ".py",
   "mimetype": "text/x-python",
   "name": "python",
   "nbconvert_exporter": "python",
   "pygments_lexer": "ipython3",
   "version": "3.10.4"
  },
  "orig_nbformat": 4,
  "vscode": {
   "interpreter": {
    "hash": "6ebcb23f1552931405171040cfcf3de3ef453a44889daa34a074ec066aa3cb0e"
   }
  }
 },
 "nbformat": 4,
 "nbformat_minor": 2
}
